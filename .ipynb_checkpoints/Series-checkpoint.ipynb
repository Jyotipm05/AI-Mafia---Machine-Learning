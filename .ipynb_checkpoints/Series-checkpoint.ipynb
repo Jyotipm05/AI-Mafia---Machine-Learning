{
 "cells": [
  {
   "cell_type": "markdown",
   "id": "4a0ac0c7",
   "metadata": {},
   "source": [
    "# Series"
   ]
  },
  {
   "cell_type": "markdown",
   "id": "b859aade",
   "metadata": {},
   "source": [
    "```\n",
    "The first main data type we will learn about for pandas is the Series data type. Let's import Pandas\n",
    "and explore the Series object.\n",
    "A Series is very similar to a NumPy array (in fact it is built on top of the NumPy array object). What differentiates the NumPy array from a Series, is that a Series can have axis labels, meaning it can be indexed by a label, instead of just a number location. It also doesn't need to hold numeric data, it can hold arbitrary Python Object.\n",
    "Let's explore this concept through some examples:\n",
    "```"
   ]
  },
  {
   "cell_type": "code",
   "execution_count": null,
   "id": "b918de4d",
   "metadata": {},
   "outputs": [],
   "source": [
    "!pip3 install pandas"
   ]
  },
  {
   "cell_type": "code",
   "execution_count": null,
   "id": "47a80d7d",
   "metadata": {},
   "outputs": [],
   "source": []
  }
 ],
 "metadata": {
  "kernelspec": {
   "display_name": "Python 3 (ipykernel)",
   "language": "python",
   "name": "python3"
  }
 },
 "nbformat": 4,
 "nbformat_minor": 5
}
